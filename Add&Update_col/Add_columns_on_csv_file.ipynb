{
 "cells": [
  {
   "cell_type": "code",
   "execution_count": null,
   "metadata": {},
   "outputs": [],
   "source": [
    "# import csv\n",
    "# with open('input.csv', 'r') as input_file, open('new_output.csv', 'w') as output_file:\n",
    "#     reader = csv.reader(input_file)\n",
    "#     writer = csv.writer(output_file)\n",
    "#     for row in reader:\n",
    "#         num_sum = 0\n",
    "#         if row[1]>row[2]:\n",
    "#             row.append(1)\n",
    "#             writer.writerow(row)\n",
    "#         else:\n",
    "#             row.append(0)\n",
    "#             writer.writerow(row)\n",
    "            \n",
    "#         if row[1] == 'A':\n",
    "#                 continue\n",
    "#         else:\n",
    "#             for col in row:\n",
    "#                 num_sum+=int(col)\n",
    "#                 print(num_sum)\n",
    "#                 row.append(num_sum)\n",
    "#                 writer.writerow(row)\n",
    "                "
   ]
  },
  {
   "cell_type": "code",
   "execution_count": 4,
   "metadata": {},
   "outputs": [
    {
     "name": "stdout",
     "output_type": "stream",
     "text": [
      "    TIME(s)   A   B    C  Flag_A_B  AVG_C\n",
      "0         1   0   0   10         0      0\n",
      "1         2   2   2   20         0      0\n",
      "2         3   4   4   30         0      0\n",
      "3         4   6   6   40         0      0\n",
      "4         5   8   8   50         0      0\n",
      "5         6  10  10   60         0     30\n",
      "6         7  12  12   70         0     40\n",
      "7         8  14  14   80         0     50\n",
      "8         9  16  16  200         0     60\n",
      "9        10  18  18  100         0     92\n",
      "10       11  20  20  110         0    102\n",
      "11       12  22  22  120         0    112\n",
      "12       13  24  24  130         0    122\n",
      "13       14  26  26  140         0    132\n",
      "14       15  28  28  150         0    120\n"
     ]
    }
   ],
   "source": [
    "import pandas as pd\n",
    "df = pd.read_csv(\"input.csv\")\n",
    "df['Flag_A_B'] = 0\n",
    "df['AVG_C'] = 0\n",
    "Flag = 0\n",
    "FLAG_C = 0\n",
    "for i in df.index:\n",
    "#     import pdb;pdb.set_trace()\n",
    "    if df['A'][i] > df['B'][i]:\n",
    "        df['Flag_A_B'][i]= 1\n",
    "    else:\n",
    "        df['Flag_A_B'][i]= 0\n",
    "        \n",
    "    if i > 4:\n",
    "        df['AVG_C'][i] = df.iloc[i-5:i]['C'].mean(axis=0)\n",
    "\n",
    "# print(df['C'].tail(45))\n",
    "# print(df['C'].tail(45).sum())\n",
    "print(df.head(15))\n",
    "# print(df.iloc[0:4]['C'].sum(axis=0))"
   ]
  },
  {
   "cell_type": "code",
   "execution_count": 78,
   "metadata": {},
   "outputs": [],
   "source": [
    "import pandas as pd\n",
    "# data/ = {'Name':['Tom', 'nick', 'krish', 'jack'], 'Age':[20, 21, 19, 18]}\n",
    "# df = pd.read_csv(\"input.csv\", usecols=[3], skiprows=1,names=['CustID', 'Name', 'Companies', 'Income'])\n",
    "df = pd.read_csv(\"input.csv\")\n",
    "# print(df) \n",
    "# df.insert(4,column = \"Department\", value=0)\n",
    "for i in df.index:\n",
    "    df.loc[df['TIME(s)'] >  df['A'], 'rating'] = 0\n",
    "    \n",
    "\n",
    "    \n",
    "        "
   ]
  },
  {
   "cell_type": "code",
   "execution_count": null,
   "metadata": {},
   "outputs": [],
   "source": []
  }
 ],
 "metadata": {
  "kernelspec": {
   "display_name": "Python 3",
   "language": "python",
   "name": "python3"
  },
  "language_info": {
   "codemirror_mode": {
    "name": "ipython",
    "version": 3
   },
   "file_extension": ".py",
   "mimetype": "text/x-python",
   "name": "python",
   "nbconvert_exporter": "python",
   "pygments_lexer": "ipython3",
   "version": "3.7.6"
  }
 },
 "nbformat": 4,
 "nbformat_minor": 4
}
